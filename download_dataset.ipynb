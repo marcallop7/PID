{
 "cells": [
  {
   "cell_type": "markdown",
   "metadata": {},
   "source": [
    "Para el entrenamiento de la red neuronal es necesario poseer un conjunto de imagenes que permitan la clasificación de las células en si están o no afectadas en el cancer de mama. En caso de querer probar el entrenamiento de forma local podrá descargar los datos a través del enlace: https://drive.google.com/file/d/1zwDZjex8lerSzfhrnm9EM4_0nSSsXuVm/view?usp=drive_link\n",
    "\n",
    "Luego de ello, crea en la raiz del proyecto la carpeta \"images\" y dentro de ella pon las carpetas que contiene el zip"
   ]
  }
 ],
 "metadata": {
  "kernelspec": {
   "display_name": "Python 3",
   "language": "python",
   "name": "python3"
  },
  "language_info": {
   "codemirror_mode": {
    "name": "ipython",
    "version": 3
   },
   "file_extension": ".py",
   "mimetype": "text/x-python",
   "name": "python",
   "nbconvert_exporter": "python",
   "pygments_lexer": "ipython3",
   "version": "3.12.6"
  }
 },
 "nbformat": 4,
 "nbformat_minor": 2
}
